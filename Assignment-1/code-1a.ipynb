{
 "cells": [
  {
   "cell_type": "code",
   "execution_count": 1,
   "id": "8e94969b",
   "metadata": {},
   "outputs": [
    {
     "name": "stderr",
     "output_type": "stream",
     "text": [
      "None of PyTorch, TensorFlow >= 2.0, or Flax have been found. Models won't be available and only tokenizers, configuration and file/data utilities can be used.\n"
     ]
    },
    {
     "name": "stdout",
     "output_type": "stream",
     "text": [
      "\u001b[1m\n",
      "Total number of tokens using NLTK: \u001b[0m 93530\n",
      "\u001b[1m\n",
      "Total number of tokens using spaCy: \u001b[0m 95894\n",
      "\u001b[1m\n",
      "Total number of tokens using BERT: \u001b[0m 112325\n"
     ]
    }
   ],
   "source": [
    "import nltk\n",
    "import spacy\n",
    "import transformers\n",
    "\n",
    "def read(file):\n",
    "    with open(file, 'r') as f:\n",
    "        text = f.read()\n",
    "    return text\n",
    "    \n",
    "def tokenize(text):\n",
    "    nltk_tokens = nltk_tokenize(text)\n",
    "    print('\\033[1m'+\"Total number of tokens using NLTK: \"+'\\033[0m', len(nltk_tokens))\n",
    "    #print('\\033[1m'+\"\\nNLTK tokens:\"+'\\033[0m', nltk_tokens)\n",
    "    spacy_tokens = spacy_tokenize(text)\n",
    "    print('\\033[1m'+\"Total number of tokens using spaCy: \"+'\\033[0m', len(spacy_tokens))\n",
    "    #print('\\033[1m'+\"\\nSpaCy tokens:\"+'\\033[0m', spacy_tokens)\n",
    "    bert_tokens = bert_tokenize(text)\n",
    "    print('\\033[1m'+\"Total number of tokens using BERT: \"+'\\033[0m', len(bert_tokens))\n",
    "    #print('\\033[1m'+\"\\nBERT tokens:\"+'\\033[0m', bert_tokens)\n",
    "    \n",
    "def nltk_tokenize(text):\n",
    "    tokens = nltk.word_tokenize(text)\n",
    "    return tokens\n",
    "\n",
    "def spacy_tokenize(text):\n",
    "    tz = spacy.load('en_core_web_sm') # loads English tokenizer, tagger, parser and NER\n",
    "    doc = tz(text)\n",
    "    tokens = [token.text for token in doc]\n",
    "    return tokens\n",
    "\n",
    "def bert_tokenize(text):\n",
    "    tz = transformers.BertTokenizer.from_pretrained('bert-base-cased') # loads the BertTokenizer with the bert-base-cased model\n",
    "    tokens = tz.tokenize(text)\n",
    "    return tokens\n",
    "\n",
    "def main():\n",
    "    text = read('wsj_untokenized.txt')\n",
    "    tokenize(text)\n",
    "       \n",
    "if __name__ == \"__main__\":\n",
    "    main()"
   ]
  },
  {
   "cell_type": "code",
   "execution_count": null,
   "id": "94654e21",
   "metadata": {},
   "outputs": [],
   "source": []
  }
 ],
 "metadata": {
  "kernelspec": {
   "display_name": "Python 3 (ipykernel)",
   "language": "python",
   "name": "python3"
  },
  "language_info": {
   "codemirror_mode": {
    "name": "ipython",
    "version": 3
   },
   "file_extension": ".py",
   "mimetype": "text/x-python",
   "name": "python",
   "nbconvert_exporter": "python",
   "pygments_lexer": "ipython3",
   "version": "3.11.2"
  }
 },
 "nbformat": 4,
 "nbformat_minor": 5
}
